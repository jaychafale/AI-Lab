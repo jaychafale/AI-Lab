{
  "nbformat": 4,
  "nbformat_minor": 0,
  "metadata": {
    "colab": {
      "provenance": []
    },
    "kernelspec": {
      "name": "python3",
      "display_name": "Python 3"
    },
    "language_info": {
      "name": "python"
    }
  },
  "cells": [
    {
      "cell_type": "code",
      "execution_count": 4,
      "metadata": {
        "colab": {
          "base_uri": "https://localhost:8080/"
        },
        "id": "bLAuma0vMHdP",
        "outputId": "0da25fe7-627a-4b1a-9ef0-bddb65843348"
      },
      "outputs": [
        {
          "output_type": "stream",
          "name": "stdout",
          "text": [
            "Text: 'I hate this product'\n",
            "Predicted Sentiment: negative\n"
          ]
        }
      ],
      "source": [
        "from sklearn.feature_extraction.text import CountVectorizer\n",
        "from sklearn.naive_bayes import MultinomialNB\n",
        "from sklearn.pipeline import make_pipeline\n",
        "\n",
        "# Sample data\n",
        "texts = [\"I love this movie\", \"This is an amazing product\", \"I hate this product\", \"This is the worst thing ever\"]\n",
        "labels = [\"positive\", \"positive\", \"negative\", \"negative\"]  # Corresponding sentiments\n",
        "\n",
        "# Create a text classification model\n",
        "model = make_pipeline(CountVectorizer(), MultinomialNB())\n",
        "\n",
        "# Train the model\n",
        "model.fit(texts, labels)\n",
        "\n",
        "# Test the model\n",
        "test_text = \"I hate this product\"\n",
        "predicted = model.predict([test_text])\n",
        "\n",
        "print(f\"Text: '{test_text}'\")\n",
        "print(f\"Predicted Sentiment: {predicted[0]}\")\n"
      ]
    }
  ]
}