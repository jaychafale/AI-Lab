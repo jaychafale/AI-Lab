{
  "nbformat": 4,
  "nbformat_minor": 0,
  "metadata": {
    "colab": {
      "provenance": []
    },
    "kernelspec": {
      "name": "python3",
      "display_name": "Python 3"
    },
    "language_info": {
      "name": "python"
    }
  },
  "cells": [
    {
      "cell_type": "code",
      "execution_count": 1,
      "metadata": {
        "colab": {
          "base_uri": "https://localhost:8080/"
        },
        "id": "P6PifWvnLGpi",
        "outputId": "176508f8-26b4-4d25-bcdc-c0fb82d041a2"
      },
      "outputs": [
        {
          "output_type": "stream",
          "name": "stdout",
          "text": [
            "Predictions: ['spam' 'spam' 'spam']\n",
            "Accuracy: 0.3333333333333333\n",
            "Prediction for new message: spam\n"
          ]
        }
      ],
      "source": [
        "import pandas as pd\n",
        "from sklearn.model_selection import train_test_split\n",
        "from sklearn.feature_extraction.text import CountVectorizer\n",
        "from sklearn.naive_bayes import MultinomialNB\n",
        "from sklearn.metrics import accuracy_score\n",
        "\n",
        "# Sample dataset (you can replace this with a CSV file if needed)\n",
        "data = {\n",
        "    'text': [\n",
        "        \"Win a free iPhone now\",\n",
        "        \"Hey, how are you doing?\",\n",
        "        \"Congratulations, you've won a lottery\",\n",
        "        \"Let's catch up tomorrow\",\n",
        "        \"Free entry in a contest\",\n",
        "        \"Are we meeting today?\",\n",
        "        \"You have been selected for a prize\",\n",
        "        \"See you at 5 PM\"\n",
        "    ],\n",
        "    'label': ['spam', 'ham', 'spam', 'ham', 'spam', 'ham', 'spam', 'ham']  # spam or ham (not spam)\n",
        "}\n",
        "\n",
        "# Step 1: Load data\n",
        "df = pd.DataFrame(data)\n",
        "\n",
        "# Step 2: Split data\n",
        "X_train, X_test, y_train, y_test = train_test_split(df['text'], df['label'], test_size=0.3, random_state=42)\n",
        "\n",
        "# Step 3: Convert text to features (Bag of Words)\n",
        "vectorizer = CountVectorizer()\n",
        "X_train_counts = vectorizer.fit_transform(X_train)\n",
        "X_test_counts = vectorizer.transform(X_test)\n",
        "\n",
        "# Step 4: Train model\n",
        "model = MultinomialNB()\n",
        "model.fit(X_train_counts, y_train)\n",
        "\n",
        "# Step 5: Predict on test data\n",
        "y_pred = model.predict(X_test_counts)\n",
        "\n",
        "# Step 6: Show results\n",
        "print(\"Predictions:\", y_pred)\n",
        "print(\"Accuracy:\", accuracy_score(y_test, y_pred))\n",
        "\n",
        "# Test new message\n",
        "new_message = [\"Congratulations! You have won a free gift\"]\n",
        "new_data = vectorizer.transform(new_message)\n",
        "print(\"Prediction for new message:\", model.predict(new_data)[0])\n"
      ]
    }
  ]
}