{
  "nbformat": 4,
  "nbformat_minor": 0,
  "metadata": {
    "colab": {
      "provenance": []
    },
    "kernelspec": {
      "name": "python3",
      "display_name": "Python 3"
    },
    "language_info": {
      "name": "python"
    }
  },
  "cells": [
    {
      "cell_type": "code",
      "execution_count": 1,
      "metadata": {
        "colab": {
          "base_uri": "https://localhost:8080/"
        },
        "id": "TfEBGDkTLwnK",
        "outputId": "05785b9e-e7e5-452f-9eb9-e176f5d8209c"
      },
      "outputs": [
        {
          "output_type": "stream",
          "name": "stdout",
          "text": [
            "Move\n"
          ]
        }
      ],
      "source": [
        "from sklearn.linear_model import Perceptron\n",
        "\n",
        "# Features: [obstacle_in_front, goal_ahead] -> 1: Yes, 0: No\n",
        "X = [\n",
        "    [0, 1],  # Clear path & goal ahead\n",
        "    [1, 1],  # Obstacle but goal ahead\n",
        "    [0, 0],  # Clear path, no goal\n",
        "    [1, 0],  # Obstacle, no goal\n",
        "]\n",
        "# Labels: 1 = Move, 0 = Don't move\n",
        "y = [1, 0, 1, 0]\n",
        "\n",
        "model = Perceptron()\n",
        "model.fit(X, y)\n",
        "\n",
        "# Test robot decision\n",
        "test = [[0, 1]]  # clear path and goal ahead\n",
        "print(\"Move\" if model.predict(test)[0] == 1 else \"Don't move\")\n"
      ]
    },
    {
      "cell_type": "code",
      "source": [
        "from sklearn.linear_model import LogisticRegression\n",
        "\n",
        "# Features: [goal_up, goal_down, goal_left, goal_right]\n",
        "X = [\n",
        "    [1, 0, 0, 0],  # goal is up\n",
        "    [0, 1, 0, 0],  # down\n",
        "    [0, 0, 1, 0],  # left\n",
        "    [0, 0, 0, 1],  # right\n",
        "]\n",
        "# Labels: 0=UP, 1=DOWN, 2=LEFT, 3=RIGHT\n",
        "y = [0, 1, 2, 3]\n",
        "\n",
        "model = LogisticRegression(multi_class='multinomial', solver='lbfgs')\n",
        "model.fit(X, y)\n",
        "\n",
        "# Predict direction\n",
        "test = [[0, 0, 1, 0]]  # goal is left\n",
        "directions = [\"UP\", \"DOWN\", \"LEFT\", \"RIGHT\"]\n",
        "print(\"Move:\", directions[model.predict(test)[0]])\n"
      ],
      "metadata": {
        "colab": {
          "base_uri": "https://localhost:8080/"
        },
        "id": "suD3RJOrL2I6",
        "outputId": "e50350d9-35d3-47c8-a4ac-79610f60faf4"
      },
      "execution_count": 2,
      "outputs": [
        {
          "output_type": "stream",
          "name": "stdout",
          "text": [
            "Move: LEFT\n"
          ]
        },
        {
          "output_type": "stream",
          "name": "stderr",
          "text": [
            "/usr/local/lib/python3.11/dist-packages/sklearn/linear_model/_logistic.py:1247: FutureWarning: 'multi_class' was deprecated in version 1.5 and will be removed in 1.7. From then on, it will always use 'multinomial'. Leave it to its default value to avoid this warning.\n",
            "  warnings.warn(\n"
          ]
        }
      ]
    }
  ]
}