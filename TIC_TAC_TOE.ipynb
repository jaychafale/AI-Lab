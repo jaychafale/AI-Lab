{
  "nbformat": 4,
  "nbformat_minor": 0,
  "metadata": {
    "colab": {
      "provenance": []
    },
    "kernelspec": {
      "name": "python3",
      "display_name": "Python 3"
    },
    "language_info": {
      "name": "python"
    }
  },
  "cells": [
    {
      "cell_type": "code",
      "execution_count": 1,
      "metadata": {
        "colab": {
          "base_uri": "https://localhost:8080/"
        },
        "id": "iqKnS5QhIyFQ",
        "outputId": "54f8da62-b521-454d-c677-332020fce876"
      },
      "outputs": [
        {
          "output_type": "stream",
          "name": "stdout",
          "text": [
            " | | \n",
            "-----\n",
            " | | \n",
            "-----\n",
            " | | \n",
            "-----\n",
            "X, enter row (0-2): 1\n",
            "X, enter col (0-2): 0\n",
            " | | \n",
            "-----\n",
            "X| | \n",
            "-----\n",
            " | | \n",
            "-----\n",
            "O, enter row (0-2): 2\n",
            "O, enter col (0-2): 2\n",
            " | | \n",
            "-----\n",
            "X| | \n",
            "-----\n",
            " | |O\n",
            "-----\n",
            "X, enter row (0-2): 0\n",
            "X, enter col (0-2): 0\n",
            "X| | \n",
            "-----\n",
            "X| | \n",
            "-----\n",
            " | |O\n",
            "-----\n",
            "O, enter row (0-2): 2\n",
            "O, enter col (0-2): 1\n",
            "X| | \n",
            "-----\n",
            "X| | \n",
            "-----\n",
            " |O|O\n",
            "-----\n",
            "X, enter row (0-2): 2\n",
            "X, enter col (0-2): 0\n",
            "X| | \n",
            "-----\n",
            "X| | \n",
            "-----\n",
            "X|O|O\n",
            "-----\n",
            "X wins!\n"
          ]
        }
      ],
      "source": [
        "def print_board(board):\n",
        "    for row in board:\n",
        "        print(\"|\".join(row))\n",
        "        print(\"-\" * 5)\n",
        "\n",
        "def check_winner(board, mark):\n",
        "    for row in board:\n",
        "        if all(cell == mark for cell in row):\n",
        "            return True\n",
        "    for col in range(3):\n",
        "        if all(board[row][col] == mark for row in range(3)):\n",
        "            return True\n",
        "    if all(board[i][i] == mark for i in range(3)) or \\\n",
        "       all(board[i][2 - i] == mark for i in range(3)):\n",
        "        return True\n",
        "    return False\n",
        "\n",
        "def tic_tac_toe():\n",
        "    board = [[\" \"]*3 for _ in range(3)]\n",
        "    player = \"X\"\n",
        "    for _ in range(9):\n",
        "        print_board(board)\n",
        "        while True: # loop until a valid input is received\n",
        "            try:\n",
        "                row = int(input(f\"{player}, enter row (0-2): \"))\n",
        "                col = int(input(f\"{player}, enter col (0-2): \"))\n",
        "                if 0 <= row <= 2 and 0 <= col <= 2: # check if input is within valid range\n",
        "                    break # exit loop if input is valid\n",
        "                else:\n",
        "                    print(\"Invalid input. Row and column must be between 0 and 2.\")\n",
        "            except ValueError:\n",
        "                print(\"Invalid input. Please enter numbers only.\")\n",
        "\n",
        "        if board[row][col] == \" \":\n",
        "            board[row][col] = player\n",
        "            if check_winner(board, player):\n",
        "                print_board(board)\n",
        "                print(f\"{player} wins!\")\n",
        "                return\n",
        "            player = \"O\" if player == \"X\" else \"X\"\n",
        "        else:\n",
        "            print(\"Invalid move, try again.\")\n",
        "    print_board(board)\n",
        "    print(\"It's a draw!\")\n",
        "\n",
        "tic_tac_toe()"
      ]
    }
  ]
}