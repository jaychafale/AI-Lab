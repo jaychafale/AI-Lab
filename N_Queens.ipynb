{
  "nbformat": 4,
  "nbformat_minor": 0,
  "metadata": {
    "colab": {
      "provenance": []
    },
    "kernelspec": {
      "name": "python3",
      "display_name": "Python 3"
    },
    "language_info": {
      "name": "python"
    }
  },
  "cells": [
    {
      "cell_type": "code",
      "execution_count": 1,
      "metadata": {
        "id": "ZDkNFVmiJqIb",
        "outputId": "e612e0e5-b212-439e-a703-32eae34f0085",
        "colab": {
          "base_uri": "https://localhost:8080/"
        }
      },
      "outputs": [
        {
          "output_type": "stream",
          "name": "stdout",
          "text": [
            ". Q . . \n",
            ". . . Q \n",
            "Q . . . \n",
            ". . Q . \n",
            "\n",
            ". . Q . \n",
            "Q . . . \n",
            ". . . Q \n",
            ". Q . . \n",
            "\n"
          ]
        }
      ],
      "source": [
        "def is_safe(board, row, col):\n",
        "    for i in range(row):\n",
        "        if board[i] == col or \\\n",
        "           board[i] - i == col - row or \\\n",
        "           board[i] + i == col + row:\n",
        "            return False\n",
        "    return True\n",
        "\n",
        "def print_board(board):\n",
        "    n = len(board)\n",
        "    for row in board:\n",
        "        line = \"\"\n",
        "        for col in range(n):\n",
        "            if col == row:\n",
        "                line += \"Q \"\n",
        "            else:\n",
        "                line += \". \"\n",
        "        print(line)\n",
        "    print()\n",
        "\n",
        "def solve_n_queens(n, board=[], row=0):\n",
        "    if row == n:\n",
        "        print_board(board)\n",
        "        return\n",
        "    for col in range(n):\n",
        "        if is_safe(board, row, col):\n",
        "            solve_n_queens(n, board + [col], row + 1)\n",
        "\n",
        "solve_n_queens(4)\n"
      ]
    }
  ]
}