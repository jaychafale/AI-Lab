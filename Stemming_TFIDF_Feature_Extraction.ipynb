{
  "nbformat": 4,
  "nbformat_minor": 0,
  "metadata": {
    "colab": {
      "provenance": []
    },
    "kernelspec": {
      "name": "python3",
      "display_name": "Python 3"
    },
    "language_info": {
      "name": "python"
    }
  },
  "cells": [
    {
      "cell_type": "code",
      "execution_count": 4,
      "metadata": {
        "colab": {
          "base_uri": "https://localhost:8080/"
        },
        "id": "fA0StFYMJ9fd",
        "outputId": "1d3066c0-20a3-4d81-ca33-542155fa20af"
      },
      "outputs": [
        {
          "output_type": "stream",
          "name": "stderr",
          "text": [
            "[nltk_data] Downloading package stopwords to /root/nltk_data...\n",
            "[nltk_data]   Package stopwords is already up-to-date!\n",
            "[nltk_data] Downloading package punkt to /root/nltk_data...\n",
            "[nltk_data]   Package punkt is already up-to-date!\n",
            "[nltk_data] Downloading package punkt_tab to /root/nltk_data...\n",
            "[nltk_data]   Unzipping tokenizers/punkt_tab.zip.\n"
          ]
        },
        {
          "output_type": "stream",
          "name": "stdout",
          "text": [
            "Original: ['This', 'is', 'an', 'example', 'showing', 'off', 'tokenization', 'and', 'stemming', 'using', 'NLTK', '.']\n",
            "Filtered: ['example', 'showing', 'tokenization', 'stemming', 'using', 'NLTK', '.']\n",
            "Stemmed: ['exampl', 'show', 'token', 'stem', 'use', 'nltk', '.']\n",
            "TF-IDF Matrix:\n",
            "[[0.66283998 0.         0.         0.39148397 0.50410689 0.\n",
            "  0.39148397]\n",
            " [0.         0.55847784 0.         0.43370786 0.         0.55847784\n",
            "  0.43370786]\n",
            " [0.         0.35934131 0.47249064 0.27906059 0.35934131 0.35934131\n",
            "  0.55812117]]\n",
            "Feature Names: ['blue' 'bright' 'in' 'is' 'sky' 'sun' 'the']\n",
            "Bag of Words Matrix:\n",
            "[[0 0 1 1]\n",
            " [1 1 0 1]\n",
            " [1 0 1 0]]\n",
            "Feature Names: ['fun' 'is' 'love' 'nlp']\n"
          ]
        }
      ],
      "source": [
        "import nltk\n",
        "from nltk.tokenize import word_tokenize\n",
        "from nltk.corpus import stopwords\n",
        "from nltk.stem import PorterStemmer\n",
        "nltk.download('stopwords')\n",
        "nltk.download('punkt')\n",
        "nltk.download('punkt_tab') # This line downloads the punkt_tab model\n",
        "\n",
        "text = \"This is an example showing off tokenization and stemming using NLTK.\"\n",
        "tokens = word_tokenize(text)\n",
        "stop_words = set(stopwords.words('english'))\n",
        "filtered = [w for w in tokens if w.lower() not in stop_words]\n",
        "\n",
        "ps = PorterStemmer()\n",
        "stemmed = [ps.stem(w) for w in filtered]\n",
        "\n",
        "print(\"Original:\", tokens)\n",
        "print(\"Filtered:\", filtered)\n",
        "print(\"Stemmed:\", stemmed)\n",
        "\n",
        "\n",
        "\n",
        "#tf-idf\n",
        "\n",
        "from sklearn.feature_extraction.text import TfidfVectorizer\n",
        "\n",
        "docs = [\"the sky is blue\", \"the sun is bright\", \"the sun in the sky is bright\"]\n",
        "vectorizer = TfidfVectorizer()\n",
        "X = vectorizer.fit_transform(docs)\n",
        "\n",
        "print(\"TF-IDF Matrix:\")\n",
        "print(X.toarray())\n",
        "print(\"Feature Names:\", vectorizer.get_feature_names_out())\n",
        "\n",
        "\n",
        "\n",
        "#feature extraction\n",
        "\n",
        "from sklearn.feature_extraction.text import CountVectorizer\n",
        "\n",
        "texts = [\"I love NLP\", \"NLP is fun\", \"I love fun\"]\n",
        "vectorizer = CountVectorizer()\n",
        "X = vectorizer.fit_transform(texts)\n",
        "\n",
        "print(\"Bag of Words Matrix:\")\n",
        "print(X.toarray())\n",
        "print(\"Feature Names:\", vectorizer.get_feature_names_out())"
      ]
    }
  ]
}